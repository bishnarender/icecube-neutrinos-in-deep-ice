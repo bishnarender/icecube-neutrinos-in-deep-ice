{
 "cells": [
  {
   "cell_type": "code",
   "execution_count": 1,
   "id": "1f926e23",
   "metadata": {
    "_kg_hide-input": true,
    "_kg_hide-output": true,
    "execution": {
     "iopub.execute_input": "2023-10-26T01:39:10.877052Z",
     "iopub.status.busy": "2023-10-26T01:39:10.875993Z",
     "iopub.status.idle": "2023-10-26T01:43:28.234514Z",
     "shell.execute_reply": "2023-10-26T01:43:28.233120Z"
    },
    "papermill": {
     "duration": 257.37038,
     "end_time": "2023-10-26T01:43:28.240910",
     "exception": false,
     "start_time": "2023-10-26T01:39:10.870530",
     "status": "completed"
    },
    "scrolled": true,
    "tags": []
   },
   "outputs": [
    {
     "name": "stdout",
     "output_type": "stream",
     "text": [
      "\u001b[33mWARNING: Running pip as the 'root' user can result in broken permissions and conflicting behaviour with the system package manager. It is recommended to use a virtual environment instead: https://pip.pypa.io/warnings/venv\u001b[0m\u001b[33m\r\n",
      "\u001b[0m\u001b[33mWARNING: There was an error checking the latest version of pip.\u001b[0m\u001b[33m\r\n",
      "\u001b[0m\u001b[33mWARNING: Running pip as the 'root' user can result in broken permissions and conflicting behaviour with the system package manager. It is recommended to use a virtual environment instead: https://pip.pypa.io/warnings/venv\u001b[0m\u001b[33m\r\n",
      "\u001b[0m\u001b[33mWARNING: There was an error checking the latest version of pip.\u001b[0m\u001b[33m\r\n",
      "\u001b[0m\u001b[33mWARNING: Running pip as the 'root' user can result in broken permissions and conflicting behaviour with the system package manager. It is recommended to use a virtual environment instead: https://pip.pypa.io/warnings/venv\u001b[0m\u001b[33m\r\n",
      "\u001b[0m\u001b[33mWARNING: There was an error checking the latest version of pip.\u001b[0m\u001b[33m\r\n",
      "\u001b[0m\u001b[33mWARNING: Running pip as the 'root' user can result in broken permissions and conflicting behaviour with the system package manager. It is recommended to use a virtual environment instead: https://pip.pypa.io/warnings/venv\u001b[0m\u001b[33m\r\n",
      "\u001b[0m\u001b[33mWARNING: There was an error checking the latest version of pip.\u001b[0m\u001b[33m\r\n",
      "\u001b[0mInstalling /kaggle/input/pytorchgeometric/torch_cluster-1.6.0-cp37-cp37m-linux_x86_64.whl\n"
     ]
    },
    {
     "name": "stderr",
     "output_type": "stream",
     "text": [
      "WARNING: Running pip as the 'root' user can result in broken permissions and conflicting behaviour with the system package manager. It is recommended to use a virtual environment instead: https://pip.pypa.io/warnings/venv\n",
      "WARNING: There was an error checking the latest version of pip.\n"
     ]
    },
    {
     "name": "stdout",
     "output_type": "stream",
     "text": [
      "Installing /kaggle/input/pytorchgeometric/torch_scatter-2.1.0-cp37-cp37m-linux_x86_64.whl\n"
     ]
    },
    {
     "name": "stderr",
     "output_type": "stream",
     "text": [
      "WARNING: Running pip as the 'root' user can result in broken permissions and conflicting behaviour with the system package manager. It is recommended to use a virtual environment instead: https://pip.pypa.io/warnings/venv\n",
      "WARNING: There was an error checking the latest version of pip.\n"
     ]
    },
    {
     "name": "stdout",
     "output_type": "stream",
     "text": [
      "Installing /kaggle/input/pytorchgeometric/torch_sparse-0.6.16-cp37-cp37m-linux_x86_64.whl\n"
     ]
    },
    {
     "name": "stderr",
     "output_type": "stream",
     "text": [
      "WARNING: Running pip as the 'root' user can result in broken permissions and conflicting behaviour with the system package manager. It is recommended to use a virtual environment instead: https://pip.pypa.io/warnings/venv\n",
      "WARNING: There was an error checking the latest version of pip.\n"
     ]
    },
    {
     "name": "stdout",
     "output_type": "stream",
     "text": [
      "Installing /kaggle/input/pytorchgeometric/torch_spline_conv-1.2.1-cp37-cp37m-linux_x86_64.whl\n"
     ]
    },
    {
     "name": "stderr",
     "output_type": "stream",
     "text": [
      "WARNING: Running pip as the 'root' user can result in broken permissions and conflicting behaviour with the system package manager. It is recommended to use a virtual environment instead: https://pip.pypa.io/warnings/venv\n",
      "WARNING: There was an error checking the latest version of pip.\n"
     ]
    },
    {
     "name": "stdout",
     "output_type": "stream",
     "text": [
      "Installing /kaggle/input/pytorchgeometric/torch_geometric-2.2.0-py3-none-any.whl\n"
     ]
    },
    {
     "name": "stderr",
     "output_type": "stream",
     "text": [
      "WARNING: Running pip as the 'root' user can result in broken permissions and conflicting behaviour with the system package manager. It is recommended to use a virtual environment instead: https://pip.pypa.io/warnings/venv\n",
      "WARNING: There was an error checking the latest version of pip.\n"
     ]
    },
    {
     "name": "stdout",
     "output_type": "stream",
     "text": [
      "Installing /kaggle/input/pytorchgeometric/ruamel.yaml-0.17.21-py3-none-any.whl\n"
     ]
    },
    {
     "name": "stderr",
     "output_type": "stream",
     "text": [
      "WARNING: Running pip as the 'root' user can result in broken permissions and conflicting behaviour with the system package manager. It is recommended to use a virtual environment instead: https://pip.pypa.io/warnings/venv\n",
      "WARNING: There was an error checking the latest version of pip.\n"
     ]
    }
   ],
   "source": [
    "!pip install /kaggle/input/icecube-scripts/icecube-scripts/polars-0.16.13-cp37-abi3-manylinux_2_17_x86_64.manylinux2014_x86_64.whl -q\n",
    "#!pip install datasets --no-index --find-links=file:///kaggle/input/hf-ds -U\n",
    "!pip install ../input/icecube-scripts/icecube-scripts/entmax-1.1-py3-none-any.whl -q\n",
    "!pip install ../input/icecube-scripts/icecube-scripts/einops-0.6.0-py3-none-any.whl -q\n",
    "!pip install ../input/icecube-scripts/icecube-scripts/x_transformers-1.8.2-py3-none-any.whl -q\n",
    "import subprocess\n",
    "from pathlib import Path\n",
    "\n",
    "\n",
    "# Install packages\n",
    "whls = [\n",
    "    \"/kaggle/input/pytorchgeometric/torch_cluster-1.6.0-cp37-cp37m-linux_x86_64.whl\",\n",
    "    \"/kaggle/input/pytorchgeometric/torch_scatter-2.1.0-cp37-cp37m-linux_x86_64.whl\",\n",
    "    \"/kaggle/input/pytorchgeometric/torch_sparse-0.6.16-cp37-cp37m-linux_x86_64.whl\",\n",
    "    \"/kaggle/input/pytorchgeometric/torch_spline_conv-1.2.1-cp37-cp37m-linux_x86_64.whl\",\n",
    "    \"/kaggle/input/pytorchgeometric/torch_geometric-2.2.0-py3-none-any.whl\",\n",
    "    \"/kaggle/input/pytorchgeometric/ruamel.yaml-0.17.21-py3-none-any.whl\",\n",
    "]\n",
    "\n",
    "for w in whls:\n",
    "    print(\"Installing\", w)\n",
    "    subprocess.call([\"pip\", \"install\", w, \"--no-deps\", \"--upgrade\", \"-q\"])\n",
    "\n",
    "import sys\n",
    "sys.path.append(\"/kaggle/input/graphnet/graphnet-main/src\")\n",
    "sys.path.append(\"/kaggle/input/\")\n",
    "sys.path.append('/kaggle/input/icecube-scripts/icecube-scripts/')\n",
    "#sys.path.append('/kaggle/input/icecubescripts/')"
   ]
  },
  {
   "cell_type": "code",
   "execution_count": 2,
   "id": "24cb0f14",
   "metadata": {
    "execution": {
     "iopub.execute_input": "2023-10-26T01:43:28.253039Z",
     "iopub.status.busy": "2023-10-26T01:43:28.251828Z",
     "iopub.status.idle": "2023-10-26T01:43:32.186070Z",
     "shell.execute_reply": "2023-10-26T01:43:32.184760Z"
    },
    "papermill": {
     "duration": 3.943023,
     "end_time": "2023-10-26T01:43:32.188876",
     "exception": false,
     "start_time": "2023-10-26T01:43:28.245853",
     "status": "completed"
    },
    "tags": []
   },
   "outputs": [],
   "source": [
    "import gc, os, random, math\n",
    "import numpy as np\n",
    "from tqdm.notebook import tqdm\n",
    "from functools import partial\n",
    "\n",
    "from data_test import *\n",
    "#from encoders import EncoderWithDirectionReconstructionV22,EncoderWithDirectionReconstructionV23\n",
    "from baselineV3_SE_globalrel_d32_2 import DeepIceModel as TransformerV3_2"
   ]
  },
  {
   "cell_type": "code",
   "execution_count": null,
   "id": "aebf11f9",
   "metadata": {
    "papermill": {
     "duration": 0.004442,
     "end_time": "2023-10-26T01:43:32.198152",
     "exception": false,
     "start_time": "2023-10-26T01:43:32.193710",
     "status": "completed"
    },
    "tags": []
   },
   "outputs": [],
   "source": []
  },
  {
   "cell_type": "code",
   "execution_count": 3,
   "id": "598cb8b0",
   "metadata": {
    "execution": {
     "iopub.execute_input": "2023-10-26T01:43:32.209194Z",
     "iopub.status.busy": "2023-10-26T01:43:32.208491Z",
     "iopub.status.idle": "2023-10-26T01:43:32.282509Z",
     "shell.execute_reply": "2023-10-26T01:43:32.281626Z"
    },
    "papermill": {
     "duration": 0.082192,
     "end_time": "2023-10-26T01:43:32.284871",
     "exception": false,
     "start_time": "2023-10-26T01:43:32.202679",
     "status": "completed"
    },
    "tags": []
   },
   "outputs": [],
   "source": [
    "MODELS = [\n",
    "    ['/kaggle/input/icecube-weights/icecube-weights/B_MODEL_32.pth',\n",
    "     partial(TransformerV3_2, dim=768, dim_base=192, depth=12, head_size=32), 0.20],#0.08254897],\n",
    "    ['/kaggle/input/icecube-weights/icecube-weights/B_MODEL_B_64.pth',  \n",
    "     partial(TransformerV3_2, dim=768, dim_base=192, depth=12, head_size=64), 0.60],#0.15350807],\n",
    "    ['/kaggle/input/icecube-weights/icecube-weights/B_MODEL_B_64_REL.pth',  \n",
    "     partial(TransformerV3_2, dim=768, dim_base=192, depth=12, head_size=32, n_rel=4), 0.60],#0.19367443],\n",
    "    #['/kaggle/input/exp-24-ft-md/V22FT4_7.pth',\n",
    "    # partial(EncoderWithDirectionReconstructionV22, dim=384, dim_base=128, depth=8, head_size=32),\n",
    "    # 0.03735429],\n",
    "#     ['/kaggle/input/exp-24-ft-md/V22FT6_1.pth',\n",
    "#      partial(EncoderWithDirectionReconstructionV22, dim=384, dim_base=128, depth=8, head_size=32),\n",
    "#      0.23597202],\n",
    "#     ['/kaggle/input/exp-24-ft-md/V23FT5_6.pth',\n",
    "#      partial(EncoderWithDirectionReconstructionV23, dim=768, dim_base=192, depth=12, head_size=64),\n",
    "#      0.3342965],\n",
    "]\n",
    "\n",
    "PATH = '/kaggle/input/icecube-neutrinos-in-deep-ice/'\n",
    "ICE_PROPERTIES = '/kaggle/input/icecube-scripts/icecube-scripts/'\n",
    "\n",
    "NUM_WORKERS = 2\n",
    "bs = 16 #64\n",
    "L = 768 #512\n",
    "SEED = 2023\n",
    "\n",
    "def seed_everything(seed):\n",
    "    random.seed(seed)\n",
    "    os.environ['PYTHONHASHSEED'] = str(seed)\n",
    "    np.random.seed(seed)\n",
    "    torch.manual_seed(seed)\n",
    "    torch.cuda.manual_seed(seed)\n",
    "    torch.backends.cudnn.deterministic = True\n",
    "    torch.backends.cudnn.benchmark = True\n",
    "\n",
    "seed_everything(SEED)\n",
    "device = 'cuda' if torch.cuda.is_available() else 'cpu'"
   ]
  },
  {
   "cell_type": "code",
   "execution_count": 4,
   "id": "fb15ce64",
   "metadata": {
    "execution": {
     "iopub.execute_input": "2023-10-26T01:43:32.295874Z",
     "iopub.status.busy": "2023-10-26T01:43:32.295581Z",
     "iopub.status.idle": "2023-10-26T01:43:54.556418Z",
     "shell.execute_reply": "2023-10-26T01:43:54.555429Z"
    },
    "papermill": {
     "duration": 22.269088,
     "end_time": "2023-10-26T01:43:54.558998",
     "exception": false,
     "start_time": "2023-10-26T01:43:32.289910",
     "status": "completed"
    },
    "scrolled": true,
    "tags": []
   },
   "outputs": [
    {
     "name": "stdout",
     "output_type": "stream",
     "text": [
      "loading: /kaggle/input/icecube-weights/icecube-weights/B_MODEL_32.pth\n",
      "loading: /kaggle/input/icecube-weights/icecube-weights/B_MODEL_B_64.pth\n",
      "loading: /kaggle/input/icecube-weights/icecube-weights/B_MODEL_B_64_REL.pth\n"
     ]
    }
   ],
   "source": [
    "ds = IceCubeDataset(PATH,ICE_PROPERTIES,L=L)\n",
    "len_sampler = LenMatchBatchSampler(torch.utils.data.SequentialSampler(ds),batch_size=bs, drop_last=False)\n",
    "dl = DataLoader(ds, batch_sampler=len_sampler, num_workers=0)\n",
    "\n",
    "models,weights = [],[]\n",
    "for path,Model,w in MODELS:\n",
    "    print('loading:',path)\n",
    "    model = Model()\n",
    "    model.load_state_dict(torch.load(path,map_location=torch.device('cpu')))\n",
    "    model.eval()\n",
    "    model.to(device)\n",
    "    models.append(model)\n",
    "    weights.append(w)\n",
    "weights = torch.FloatTensor(weights)\n",
    "weights /= weights.sum()"
   ]
  },
  {
   "cell_type": "code",
   "execution_count": 5,
   "id": "7d83825e",
   "metadata": {
    "execution": {
     "iopub.execute_input": "2023-10-26T01:43:54.570614Z",
     "iopub.status.busy": "2023-10-26T01:43:54.570255Z",
     "iopub.status.idle": "2023-10-26T01:43:55.807206Z",
     "shell.execute_reply": "2023-10-26T01:43:55.806214Z"
    },
    "papermill": {
     "duration": 1.245208,
     "end_time": "2023-10-26T01:43:55.809581",
     "exception": false,
     "start_time": "2023-10-26T01:43:54.564373",
     "status": "completed"
    },
    "tags": []
   },
   "outputs": [
    {
     "data": {
      "application/vnd.jupyter.widget-view+json": {
       "model_id": "cc9468fb1aca4309ab75ae60918a59f2",
       "version_major": 2,
       "version_minor": 0
      },
      "text/plain": [
       "  0%|          | 0/1 [00:00<?, ?it/s]"
      ]
     },
     "metadata": {},
     "output_type": "display_data"
    },
    {
     "name": "stderr",
     "output_type": "stream",
     "text": [
      "/kaggle/input/icecube-scripts/icecube-scripts/data_test.py:24: UserWarning: __floordiv__ is deprecated, and its behavior will change in a future version of pytorch. It currently rounds toward 0 (like the 'trunc' function NOT 'floor'). This results in incorrect rounding for negative values. To keep the current behavior, use torch.div(a, b, rounding_mode='trunc'), or for actual floor division, use torch.div(a, b, rounding_mode='floor').\n",
      "  L = max(1,L // 16)\n"
     ]
    },
    {
     "data": {
      "text/html": [
       "<div>\n",
       "<style scoped>\n",
       "    .dataframe tbody tr th:only-of-type {\n",
       "        vertical-align: middle;\n",
       "    }\n",
       "\n",
       "    .dataframe tbody tr th {\n",
       "        vertical-align: top;\n",
       "    }\n",
       "\n",
       "    .dataframe thead th {\n",
       "        text-align: right;\n",
       "    }\n",
       "</style>\n",
       "<table border=\"1\" class=\"dataframe\">\n",
       "  <thead>\n",
       "    <tr style=\"text-align: right;\">\n",
       "      <th></th>\n",
       "      <th>event_id</th>\n",
       "      <th>azimuth</th>\n",
       "      <th>zenith</th>\n",
       "    </tr>\n",
       "  </thead>\n",
       "  <tbody>\n",
       "    <tr>\n",
       "      <th>0</th>\n",
       "      <td>2092</td>\n",
       "      <td>6.122199</td>\n",
       "      <td>1.330500</td>\n",
       "    </tr>\n",
       "    <tr>\n",
       "      <th>1</th>\n",
       "      <td>7344</td>\n",
       "      <td>3.431445</td>\n",
       "      <td>2.496783</td>\n",
       "    </tr>\n",
       "    <tr>\n",
       "      <th>2</th>\n",
       "      <td>9482</td>\n",
       "      <td>4.685464</td>\n",
       "      <td>1.543473</td>\n",
       "    </tr>\n",
       "  </tbody>\n",
       "</table>\n",
       "</div>"
      ],
      "text/plain": [
       "   event_id   azimuth    zenith\n",
       "0      2092  6.122199  1.330500\n",
       "1      7344  3.431445  2.496783\n",
       "2      9482  4.685464  1.543473"
      ]
     },
     "execution_count": 5,
     "metadata": {},
     "output_type": "execute_result"
    }
   ],
   "source": [
    "preds = []\n",
    "for x in tqdm(dl):\n",
    "    with torch.no_grad():\n",
    "        with torch.cuda.amp.autocast(enabled=True):\n",
    "            x = dict_to(x,device)\n",
    "            # torch.nan_to_num(model(x)).clip(-1000, 1000).shape => torch.Size([3, 3])\n",
    "            p = (torch.stack([torch.nan_to_num(model(x)).clip(-1000,1000) \n",
    "                              for model in models],-1).cpu()*weights).sum(-1)\n",
    "    p = get_val(p).numpy()\n",
    "    for pi,idx in zip(p,x['idx']):\n",
    "        preds.append({'event_id':idx.cpu().item(), 'azimuth':pi[0], 'zenith':pi[1]})\n",
    "        \n",
    "df = pd.read_parquet(os.path.join(PATH,'sample_submission.parquet'))\n",
    "df = pd.merge(df['event_id'], pd.DataFrame(preds), on='event_id', how='left').fillna(value=0)\n",
    "df.to_csv('submission.csv',index=False)\n",
    "df.head()"
   ]
  },
  {
   "cell_type": "code",
   "execution_count": null,
   "id": "cf1eb038",
   "metadata": {
    "papermill": {
     "duration": 0.005347,
     "end_time": "2023-10-26T01:43:55.820789",
     "exception": false,
     "start_time": "2023-10-26T01:43:55.815442",
     "status": "completed"
    },
    "tags": []
   },
   "outputs": [],
   "source": []
  }
 ],
 "metadata": {
  "kernelspec": {
   "display_name": "Python 3 (ipykernel)",
   "language": "python",
   "name": "python3"
  },
  "language_info": {
   "codemirror_mode": {
    "name": "ipython",
    "version": 3
   },
   "file_extension": ".py",
   "mimetype": "text/x-python",
   "name": "python",
   "nbconvert_exporter": "python",
   "pygments_lexer": "ipython3",
   "version": "3.8.17"
  },
  "papermill": {
   "default_parameters": {},
   "duration": 295.490753,
   "end_time": "2023-10-26T01:43:57.249742",
   "environment_variables": {},
   "exception": null,
   "input_path": "__notebook__.ipynb",
   "output_path": "__notebook__.ipynb",
   "parameters": {},
   "start_time": "2023-10-26T01:39:01.758989",
   "version": "2.3.4"
  },
  "widgets": {
   "application/vnd.jupyter.widget-state+json": {
    "state": {
     "1b070304e1f14960b93bea6b165aea61": {
      "model_module": "@jupyter-widgets/controls",
      "model_module_version": "1.5.0",
      "model_name": "FloatProgressModel",
      "state": {
       "_dom_classes": [],
       "_model_module": "@jupyter-widgets/controls",
       "_model_module_version": "1.5.0",
       "_model_name": "FloatProgressModel",
       "_view_count": null,
       "_view_module": "@jupyter-widgets/controls",
       "_view_module_version": "1.5.0",
       "_view_name": "ProgressView",
       "bar_style": "success",
       "description": "",
       "description_tooltip": null,
       "layout": "IPY_MODEL_8dbc322639c74b21b11d39b3ab95bb55",
       "max": 1,
       "min": 0,
       "orientation": "horizontal",
       "style": "IPY_MODEL_8d63db604cb642f2ae5b517512b5e970",
       "value": 1
      }
     },
     "2116d6064c5242d9bdc45b29a5970795": {
      "model_module": "@jupyter-widgets/base",
      "model_module_version": "1.2.0",
      "model_name": "LayoutModel",
      "state": {
       "_model_module": "@jupyter-widgets/base",
       "_model_module_version": "1.2.0",
       "_model_name": "LayoutModel",
       "_view_count": null,
       "_view_module": "@jupyter-widgets/base",
       "_view_module_version": "1.2.0",
       "_view_name": "LayoutView",
       "align_content": null,
       "align_items": null,
       "align_self": null,
       "border": null,
       "bottom": null,
       "display": null,
       "flex": null,
       "flex_flow": null,
       "grid_area": null,
       "grid_auto_columns": null,
       "grid_auto_flow": null,
       "grid_auto_rows": null,
       "grid_column": null,
       "grid_gap": null,
       "grid_row": null,
       "grid_template_areas": null,
       "grid_template_columns": null,
       "grid_template_rows": null,
       "height": null,
       "justify_content": null,
       "justify_items": null,
       "left": null,
       "margin": null,
       "max_height": null,
       "max_width": null,
       "min_height": null,
       "min_width": null,
       "object_fit": null,
       "object_position": null,
       "order": null,
       "overflow": null,
       "overflow_x": null,
       "overflow_y": null,
       "padding": null,
       "right": null,
       "top": null,
       "visibility": null,
       "width": null
      }
     },
     "2dc5567a0c0a4ffa8f0f202edb494f8f": {
      "model_module": "@jupyter-widgets/controls",
      "model_module_version": "1.5.0",
      "model_name": "DescriptionStyleModel",
      "state": {
       "_model_module": "@jupyter-widgets/controls",
       "_model_module_version": "1.5.0",
       "_model_name": "DescriptionStyleModel",
       "_view_count": null,
       "_view_module": "@jupyter-widgets/base",
       "_view_module_version": "1.2.0",
       "_view_name": "StyleView",
       "description_width": ""
      }
     },
     "3334d32a3ac440e8a76d2525450cb06f": {
      "model_module": "@jupyter-widgets/controls",
      "model_module_version": "1.5.0",
      "model_name": "DescriptionStyleModel",
      "state": {
       "_model_module": "@jupyter-widgets/controls",
       "_model_module_version": "1.5.0",
       "_model_name": "DescriptionStyleModel",
       "_view_count": null,
       "_view_module": "@jupyter-widgets/base",
       "_view_module_version": "1.2.0",
       "_view_name": "StyleView",
       "description_width": ""
      }
     },
     "4339393dacc8405ea5bc85ecbf3e2252": {
      "model_module": "@jupyter-widgets/base",
      "model_module_version": "1.2.0",
      "model_name": "LayoutModel",
      "state": {
       "_model_module": "@jupyter-widgets/base",
       "_model_module_version": "1.2.0",
       "_model_name": "LayoutModel",
       "_view_count": null,
       "_view_module": "@jupyter-widgets/base",
       "_view_module_version": "1.2.0",
       "_view_name": "LayoutView",
       "align_content": null,
       "align_items": null,
       "align_self": null,
       "border": null,
       "bottom": null,
       "display": null,
       "flex": null,
       "flex_flow": null,
       "grid_area": null,
       "grid_auto_columns": null,
       "grid_auto_flow": null,
       "grid_auto_rows": null,
       "grid_column": null,
       "grid_gap": null,
       "grid_row": null,
       "grid_template_areas": null,
       "grid_template_columns": null,
       "grid_template_rows": null,
       "height": null,
       "justify_content": null,
       "justify_items": null,
       "left": null,
       "margin": null,
       "max_height": null,
       "max_width": null,
       "min_height": null,
       "min_width": null,
       "object_fit": null,
       "object_position": null,
       "order": null,
       "overflow": null,
       "overflow_x": null,
       "overflow_y": null,
       "padding": null,
       "right": null,
       "top": null,
       "visibility": null,
       "width": null
      }
     },
     "71ac4e7ba9a944e3b6a1426989ac6736": {
      "model_module": "@jupyter-widgets/controls",
      "model_module_version": "1.5.0",
      "model_name": "HTMLModel",
      "state": {
       "_dom_classes": [],
       "_model_module": "@jupyter-widgets/controls",
       "_model_module_version": "1.5.0",
       "_model_name": "HTMLModel",
       "_view_count": null,
       "_view_module": "@jupyter-widgets/controls",
       "_view_module_version": "1.5.0",
       "_view_name": "HTMLView",
       "description": "",
       "description_tooltip": null,
       "layout": "IPY_MODEL_d947fa09dc2d4293b8ab061698e8fe8d",
       "placeholder": "​",
       "style": "IPY_MODEL_3334d32a3ac440e8a76d2525450cb06f",
       "value": " 1/1 [00:01&lt;00:00,  1.13s/it]"
      }
     },
     "735903225d564788a1e32cef4e09a753": {
      "model_module": "@jupyter-widgets/controls",
      "model_module_version": "1.5.0",
      "model_name": "HTMLModel",
      "state": {
       "_dom_classes": [],
       "_model_module": "@jupyter-widgets/controls",
       "_model_module_version": "1.5.0",
       "_model_name": "HTMLModel",
       "_view_count": null,
       "_view_module": "@jupyter-widgets/controls",
       "_view_module_version": "1.5.0",
       "_view_name": "HTMLView",
       "description": "",
       "description_tooltip": null,
       "layout": "IPY_MODEL_2116d6064c5242d9bdc45b29a5970795",
       "placeholder": "​",
       "style": "IPY_MODEL_2dc5567a0c0a4ffa8f0f202edb494f8f",
       "value": "100%"
      }
     },
     "8d63db604cb642f2ae5b517512b5e970": {
      "model_module": "@jupyter-widgets/controls",
      "model_module_version": "1.5.0",
      "model_name": "ProgressStyleModel",
      "state": {
       "_model_module": "@jupyter-widgets/controls",
       "_model_module_version": "1.5.0",
       "_model_name": "ProgressStyleModel",
       "_view_count": null,
       "_view_module": "@jupyter-widgets/base",
       "_view_module_version": "1.2.0",
       "_view_name": "StyleView",
       "bar_color": null,
       "description_width": ""
      }
     },
     "8dbc322639c74b21b11d39b3ab95bb55": {
      "model_module": "@jupyter-widgets/base",
      "model_module_version": "1.2.0",
      "model_name": "LayoutModel",
      "state": {
       "_model_module": "@jupyter-widgets/base",
       "_model_module_version": "1.2.0",
       "_model_name": "LayoutModel",
       "_view_count": null,
       "_view_module": "@jupyter-widgets/base",
       "_view_module_version": "1.2.0",
       "_view_name": "LayoutView",
       "align_content": null,
       "align_items": null,
       "align_self": null,
       "border": null,
       "bottom": null,
       "display": null,
       "flex": null,
       "flex_flow": null,
       "grid_area": null,
       "grid_auto_columns": null,
       "grid_auto_flow": null,
       "grid_auto_rows": null,
       "grid_column": null,
       "grid_gap": null,
       "grid_row": null,
       "grid_template_areas": null,
       "grid_template_columns": null,
       "grid_template_rows": null,
       "height": null,
       "justify_content": null,
       "justify_items": null,
       "left": null,
       "margin": null,
       "max_height": null,
       "max_width": null,
       "min_height": null,
       "min_width": null,
       "object_fit": null,
       "object_position": null,
       "order": null,
       "overflow": null,
       "overflow_x": null,
       "overflow_y": null,
       "padding": null,
       "right": null,
       "top": null,
       "visibility": null,
       "width": null
      }
     },
     "cc9468fb1aca4309ab75ae60918a59f2": {
      "model_module": "@jupyter-widgets/controls",
      "model_module_version": "1.5.0",
      "model_name": "HBoxModel",
      "state": {
       "_dom_classes": [],
       "_model_module": "@jupyter-widgets/controls",
       "_model_module_version": "1.5.0",
       "_model_name": "HBoxModel",
       "_view_count": null,
       "_view_module": "@jupyter-widgets/controls",
       "_view_module_version": "1.5.0",
       "_view_name": "HBoxView",
       "box_style": "",
       "children": [
        "IPY_MODEL_735903225d564788a1e32cef4e09a753",
        "IPY_MODEL_1b070304e1f14960b93bea6b165aea61",
        "IPY_MODEL_71ac4e7ba9a944e3b6a1426989ac6736"
       ],
       "layout": "IPY_MODEL_4339393dacc8405ea5bc85ecbf3e2252"
      }
     },
     "d947fa09dc2d4293b8ab061698e8fe8d": {
      "model_module": "@jupyter-widgets/base",
      "model_module_version": "1.2.0",
      "model_name": "LayoutModel",
      "state": {
       "_model_module": "@jupyter-widgets/base",
       "_model_module_version": "1.2.0",
       "_model_name": "LayoutModel",
       "_view_count": null,
       "_view_module": "@jupyter-widgets/base",
       "_view_module_version": "1.2.0",
       "_view_name": "LayoutView",
       "align_content": null,
       "align_items": null,
       "align_self": null,
       "border": null,
       "bottom": null,
       "display": null,
       "flex": null,
       "flex_flow": null,
       "grid_area": null,
       "grid_auto_columns": null,
       "grid_auto_flow": null,
       "grid_auto_rows": null,
       "grid_column": null,
       "grid_gap": null,
       "grid_row": null,
       "grid_template_areas": null,
       "grid_template_columns": null,
       "grid_template_rows": null,
       "height": null,
       "justify_content": null,
       "justify_items": null,
       "left": null,
       "margin": null,
       "max_height": null,
       "max_width": null,
       "min_height": null,
       "min_width": null,
       "object_fit": null,
       "object_position": null,
       "order": null,
       "overflow": null,
       "overflow_x": null,
       "overflow_y": null,
       "padding": null,
       "right": null,
       "top": null,
       "visibility": null,
       "width": null
      }
     }
    },
    "version_major": 2,
    "version_minor": 0
   }
  }
 },
 "nbformat": 4,
 "nbformat_minor": 5
}
